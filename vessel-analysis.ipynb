{
 "cells": [
  {
   "cell_type": "code",
   "id": "initial_id",
   "metadata": {
    "collapsed": true
   },
   "source": [
    "import pandas as pd\n",
    "\n",
    "vessel_positions = pd.read_csv('data/vessel_positions.csv')\n",
    "vessel_characteristics = pd.read_csv('data/vessel_characteristics.csv')"
   ],
   "outputs": [],
   "execution_count": null
  },
  {
   "metadata": {},
   "cell_type": "markdown",
   "source": [
    "# todo\n",
    "\n",
    "Use the to_timestamp function to.... on ... for accurate comparisons, date arithmetic, timezone handling, faster operations, less storage, and cleaner/built-in support (pandas and other libraries)."
   ],
   "id": "e881b6ed60056d92"
  },
  {
   "metadata": {},
   "cell_type": "code",
   "source": "",
   "id": "39770440c4b85f78",
   "outputs": [],
   "execution_count": null
  },
  {
   "metadata": {},
   "cell_type": "code",
   "source": [
    "'''\n",
    "convert a column that mixes Excel-serial numbers and “DD/MM/YYYY HH:MM” strings into one UTC-timestamp Series.\n",
    "returns a Series of dtype datetime64[ns, UTC]; unparseable rows become NaT.\n",
    "'''\n",
    "\n",
    "def to_timestamp(dataframe, column_name):\n",
    "\n",
    "    s = dataframe[column_name]\n",
    "\n",
    "    numbers = pd.to_numeric(s, errors=\"coerce\") # floats where possible, NaN otherwise\n",
    "    dt1 = pd.to_datetime(numbers, unit=\"D\", origin=\"1899-12-30\", utc=True) # convert floats to timestamps\n",
    "\n",
    "    dates = s[numbers.isna()] # take the non-numeric rows\n",
    "\n",
    "    # convert dates to timestamps\n",
    "    dt2 = pd.to_datetime(dates, format=\"%d/%m/%Y %H:%M\", dayfirst=True, utc=True, errors=\"coerce\")\n",
    "\n",
    "    final_column = dt1.fillna(dt2) # merge dt1 and dt2 into a single series of timestamps\n",
    "\n",
    "    return final_column"
   ],
   "id": "882d04729ca0683e",
   "outputs": [],
   "execution_count": null
  }
 ],
 "metadata": {
  "kernelspec": {
   "display_name": "Python 3",
   "language": "python",
   "name": "python3"
  },
  "language_info": {
   "codemirror_mode": {
    "name": "ipython",
    "version": 2
   },
   "file_extension": ".py",
   "mimetype": "text/x-python",
   "name": "python",
   "nbconvert_exporter": "python",
   "pygments_lexer": "ipython2",
   "version": "2.7.6"
  }
 },
 "nbformat": 4,
 "nbformat_minor": 5
}
