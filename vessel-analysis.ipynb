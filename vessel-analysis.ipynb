{
 "cells": [
  {
   "cell_type": "code",
   "id": "initial_id",
   "metadata": {
    "collapsed": true
   },
   "source": [
    "import pandas as pd\n",
    "from pandas.core.dtypes.common import is_datetime64_any_dtype\n",
    "\n",
    "vessel_positions = pd.read_csv('data/vessel_positions.csv')\n",
    "vessel_characteristics = pd.read_csv('data/vessel_characteristics.csv')"
   ],
   "outputs": [],
   "execution_count": null
  },
  {
   "metadata": {},
   "cell_type": "markdown",
   "source": [
    "The to_timestamp function is used convert datetime columns of string objects to datetime64[ns, UTC] dtype. This data type conversion provides accurate comparisons, date arithmetic, timezone handling, faster operations, less storage, and cleaner/built-in support (pandas and other libraries).\n",
    "\n",
    "Three additional functions, object_to_string, float_to_Int64 and int01_to_boolean, were implemented to convert columns from the default data types to the data types that suit the contents of each column best."
   ],
   "id": "e881b6ed60056d92"
  },
  {
   "metadata": {},
   "cell_type": "code",
   "source": [
    "'''\n",
    "Convert a column that mixes Excel-serial numbers and “DD/MM/YYYY HH:MM” strings into one UTC-timestamp Series.\n",
    "Rounds timings to the nearest second.\n",
    "\n",
    "Returns unchanged if the column is already a datatime dtype. Otherwise, returns a Series of dtype datetime64[ns, UTC]; unparseable rows become NaT.\n",
    "'''\n",
    "\n",
    "def to_timestamp(dataframe, column_name):\n",
    "\n",
    "    s = dataframe[column_name]\n",
    "\n",
    "    if is_datetime64_any_dtype(s):\n",
    "        return s\n",
    "\n",
    "    numbers = pd.to_numeric(s, errors=\"coerce\") # floats where possible, NaN otherwise\n",
    "    dt1 = pd.to_datetime(numbers, unit=\"D\", origin=\"1899-12-30\", utc=True) # convert floats to timestamps\n",
    "\n",
    "    dates = s[numbers.isna()] # take the non-numeric rows\n",
    "\n",
    "    # convert dates to timestamps\n",
    "    dt2 = pd.to_datetime(dates, format=\"%d/%m/%Y %H:%M\", dayfirst=True, utc=True, errors=\"coerce\")\n",
    "\n",
    "    final_column = dt1.fillna(dt2) # merge dt1 and dt2 into a single series of timestamps\n",
    "\n",
    "    # round the timings to the nearest second\n",
    "    final_column = final_column.dt.round('s')\n",
    "\n",
    "    return final_column"
   ],
   "id": "882d04729ca0683e",
   "outputs": [],
   "execution_count": null
  },
  {
   "metadata": {},
   "cell_type": "code",
   "source": [
    "'''\n",
    "Takes a dataframe, searches for text columns of object dtype and converts them to the string dtype.\n",
    "Returns the modified dataframe.\n",
    "'''\n",
    "\n",
    "def object_to_string(dataframe):\n",
    "\n",
    "    obj_cols = dataframe.select_dtypes(include=[\"object\"]).columns\n",
    "\n",
    "    for column in obj_cols:\n",
    "        if all(isinstance(v, str) for v in dataframe[column].dropna()):\n",
    "            dataframe[column] = dataframe[column].astype(\"string\")\n",
    "\n",
    "    return dataframe"
   ],
   "id": "60c312b341561579",
   "outputs": [],
   "execution_count": null
  },
  {
   "metadata": {},
   "cell_type": "code",
   "source": [
    "'''\n",
    "Takes a dataframe, searches for integer-like columns of float dtype and converts them to Pandas' Int64 dtype.\n",
    "Returns the modified dataframe.\n",
    "'''\n",
    "\n",
    "import numpy as np\n",
    "\n",
    "def float_to_Int64(dataframe):\n",
    "\n",
    "    float_cols = dataframe.select_dtypes(include=[\"float\"]).columns\n",
    "\n",
    "    for column in float_cols:\n",
    "        if np.isclose(dataframe[column].dropna() % 1, 0).all():\n",
    "            dataframe[column] = dataframe[column].astype(\"Int64\")\n",
    "\n",
    "    return dataframe"
   ],
   "id": "26f98f71773bac6c",
   "outputs": [],
   "execution_count": null
  },
  {
   "metadata": {},
   "cell_type": "code",
   "source": [
    "'''\n",
    "Takes a dataframe, searches for columns of the integer data type that are boolean in nature and converts them to boolean dtype.\n",
    "Returns the modified dataframe.\n",
    "'''\n",
    "\n",
    "def int01_to_boolean(dataframe):\n",
    "    int_cols = dataframe.select_dtypes(include=[\"integer\"]).columns\n",
    "\n",
    "    for column in int_cols:\n",
    "        if dataframe[column].dropna().isin([0, 1]).all():\n",
    "            dataframe[column] = dataframe[column].astype(\"boolean\")\n",
    "\n",
    "    return dataframe"
   ],
   "id": "cdf10a6adb874cf7",
   "outputs": [],
   "execution_count": null
  },
  {
   "metadata": {},
   "cell_type": "code",
   "outputs": [],
   "execution_count": null,
   "source": [
    "'''\n",
    "Takes a dataframe column of dates, converts it from object dtype to datetime dtype.\n",
    " Returns the modified column.\n",
    "'''\n",
    "\n",
    "def to_date(column):\n",
    "\n",
    "    patterns = [\"%d/%m/%Y\", \"%Y-%m-%d\"]\n",
    "\n",
    "    parsed = pd.Series(pd.NaT, index=column.index) # start all NaT\n",
    "\n",
    "    for fmt in patterns:\n",
    "        mask = parsed.isna() # rows still unparsed\n",
    "        parsed.loc[mask] = pd.to_datetime(\n",
    "            column.loc[mask],\n",
    "            format=fmt,\n",
    "            dayfirst=(fmt == \"%d/%m/%Y\"),\n",
    "            errors=\"coerce\"\n",
    "        )\n",
    "\n",
    "    return parsed"
   ],
   "id": "3878142f832b1e27"
  },
  {
   "metadata": {},
   "cell_type": "code",
   "outputs": [],
   "execution_count": null,
   "source": [
    "# vessel_positions data cleaning\n",
    "\n",
    "# Convert datetime columns of string objects to datetime64[ns, UTC] dtype\n",
    "\n",
    "datetime_cols = ['zone_entry_time', 'zone_out_time', 'port_entry_time',\n",
    "        'port_out_time', 'operation_location_entry_time', 'operation_location_out_time',\n",
    "        'waiting_zone_entry_time', 'waiting_zone_out_time', 'ais_eta', 'last_seen']\n",
    "\n",
    "for col in datetime_cols:\n",
    "    vessel_positions[col] = to_timestamp(vessel_positions, col)\n",
    "\n",
    "date_cols = ['status_date_time', 'updated_at']\n",
    "\n",
    "for col in date_cols:\n",
    "    vessel_positions[col] = pd.to_datetime(vessel_positions[col], format=\"%d/%m/%Y\", dayfirst=True, errors=\"coerce\")\n",
    "\n",
    "# Convert boolean in nature columns from integer dtype to boolean dtype\n",
    "int01_to_boolean(vessel_positions)\n",
    "\n",
    "# Convert text columns from object dtype to string dtype\n",
    "object_to_string(vessel_positions)\n",
    "\n",
    "# Convert integer-like float columns to Int64\n",
    "float_to_Int64(vessel_positions)"
   ],
   "id": "ae4507aa10361bd1"
  },
  {
   "metadata": {},
   "cell_type": "code",
   "outputs": [],
   "execution_count": null,
   "source": [
    "# vessel_characteristics data cleaning\n",
    "\n",
    "# Convert datetime columns of string objects to datetime64[ns, UTC] dtype\n",
    "\n",
    "datetime_cols = ['update_date']\n",
    "\n",
    "for col in datetime_cols:\n",
    "    vessel_characteristics[col] = to_timestamp(vessel_characteristics, col)\n",
    "\n",
    "date_cols = ['built', 'demolition_date', 'keel_laying_date', 'launching_date', 'reported_date', 'cancelled_date', 'last_dd_date', 'next_dd_date', 'last_ss_date', 'next_ss_date', 'conversion_date']\n",
    "\n",
    "for col in date_cols:\n",
    "    vessel_characteristics[col] = to_date(vessel_characteristics[col])\n",
    "\n",
    "#todo:\n",
    "\n",
    "# Convert text columns from object dtype to string dtype\n",
    "object_to_string(vessel_characteristics)\n",
    "\n",
    "# Convert integer-like float columns to Int64\n",
    "float_to_Int64(vessel_characteristics)\n",
    "\n",
    "# Convert boolean in nature columns from integer dtype to boolean dtype\n",
    "# int01_to_boolean(vessel_positions)"
   ],
   "id": "ebf2693d5f6ecf8a"
  }
 ],
 "metadata": {
  "kernelspec": {
   "display_name": "Python 3",
   "language": "python",
   "name": "python3"
  },
  "language_info": {
   "codemirror_mode": {
    "name": "ipython",
    "version": 2
   },
   "file_extension": ".py",
   "mimetype": "text/x-python",
   "name": "python",
   "nbconvert_exporter": "python",
   "pygments_lexer": "ipython2",
   "version": "2.7.6"
  }
 },
 "nbformat": 4,
 "nbformat_minor": 5
}
