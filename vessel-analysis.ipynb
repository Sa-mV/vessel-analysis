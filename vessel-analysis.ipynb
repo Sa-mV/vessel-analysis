{
 "cells": [
  {
   "cell_type": "code",
   "id": "initial_id",
   "metadata": {
    "collapsed": true
   },
   "source": [
    "import pandas as pd\n",
    "from pandas.core.dtypes.common import is_datetime64_any_dtype\n",
    "\n",
    "vessel_positions = pd.read_csv('data/vessel_positions.csv')\n",
    "vessel_characteristics = pd.read_csv('data/vessel_characteristics.csv')"
   ],
   "outputs": [],
   "execution_count": null
  },
  {
   "metadata": {},
   "cell_type": "markdown",
   "source": [
    "The to_timestamp function is used convert datetime columns of string objects to datetime64[ns, UTC] dtype. This data type conversion provides accurate comparisons, date arithmetic, timezone handling, faster operations, less storage, and cleaner/built-in support (pandas and other libraries).\n",
    " It will be used on the following columns:\n",
    "\n",
    "- zone_entry_time\n",
    "- zone_out_time\n",
    "- port_entry_time\n",
    "- port_out_time\n",
    "- operation_location_entry_time\n",
    "- operation_location_out_time\n",
    "- waiting_zone_entry_time\n",
    "- waiting_zone_out_time\n",
    "- ais_eta\n",
    "- last_seen"
   ],
   "id": "e881b6ed60056d92"
  },
  {
   "metadata": {
    "ExecuteTime": {
     "end_time": "2025-05-25T01:51:22.769327Z",
     "start_time": "2025-05-25T01:51:22.766022Z"
    }
   },
   "cell_type": "code",
   "source": [
    "'''\n",
    "Convert a column that mixes Excel-serial numbers and “DD/MM/YYYY HH:MM” strings into one UTC-timestamp Series.\n",
    "Rounds timings to the nearest second.\n",
    "\n",
    "Returns unchanged if the column is already a datatime dtype. Otherwise, returns a Series of dtype datetime64[ns, UTC]; unparseable rows become NaT.\n",
    "'''\n",
    "\n",
    "def to_timestamp(dataframe, column_name):\n",
    "\n",
    "    s = dataframe[column_name]\n",
    "\n",
    "    if is_datetime64_any_dtype(s):\n",
    "        return s\n",
    "\n",
    "    numbers = pd.to_numeric(s, errors=\"coerce\") # floats where possible, NaN otherwise\n",
    "    dt1 = pd.to_datetime(numbers, unit=\"D\", origin=\"1899-12-30\", utc=True) # convert floats to timestamps\n",
    "\n",
    "    dates = s[numbers.isna()] # take the non-numeric rows\n",
    "\n",
    "    # convert dates to timestamps\n",
    "    dt2 = pd.to_datetime(dates, format=\"%d/%m/%Y %H:%M\", dayfirst=True, utc=True, errors=\"coerce\")\n",
    "\n",
    "    final_column = dt1.fillna(dt2) # merge dt1 and dt2 into a single series of timestamps\n",
    "\n",
    "    # round the timings to the nearest second\n",
    "    final_column = final_column.dt.round('s')\n",
    "\n",
    "    return final_column"
   ],
   "id": "882d04729ca0683e",
   "outputs": [],
   "execution_count": 149
  },
  {
   "metadata": {},
   "cell_type": "code",
   "source": [
    "# Convert datetime columns of string objects to datetime64[ns, UTC] dtype\n",
    "\n",
    "datetime_cols = ['zone_entry_time', 'zone_out_time', 'port_entry_time',\n",
    "        'port_out_time', 'operation_location_entry_time', 'operation_location_out_time',\n",
    "        'waiting_zone_entry_time', 'waiting_zone_out_time', 'ais_eta', 'last_seen']\n",
    "\n",
    "for col in datetime_cols:\n",
    "    vessel_positions[col] = to_timestamp(vessel_positions, col)\n",
    "\n",
    "date_cols = ['status_date_time', 'updated_at']\n",
    "\n",
    "for col in date_cols:\n",
    "    vessel_positions[col] = pd.to_datetime(vessel_positions[col], format=\"%d/%m/%Y\", dayfirst=True, errors=\"coerce\")"
   ],
   "id": "ae4507aa10361bd1",
   "outputs": [],
   "execution_count": null
  }
 ],
 "metadata": {
  "kernelspec": {
   "display_name": "Python 3",
   "language": "python",
   "name": "python3"
  },
  "language_info": {
   "codemirror_mode": {
    "name": "ipython",
    "version": 2
   },
   "file_extension": ".py",
   "mimetype": "text/x-python",
   "name": "python",
   "nbconvert_exporter": "python",
   "pygments_lexer": "ipython2",
   "version": "2.7.6"
  }
 },
 "nbformat": 4,
 "nbformat_minor": 5
}
